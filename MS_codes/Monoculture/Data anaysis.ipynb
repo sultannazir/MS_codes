{
 "cells": [
  {
   "cell_type": "code",
   "execution_count": 1,
   "id": "e6092a2d",
   "metadata": {},
   "outputs": [],
   "source": [
    "import csv\n",
    "import plotly.express as px\n",
    "import numpy as np\n",
    "import seaborn as sns\n",
    "import pandas as pd \n",
    "import matplotlib.pyplot as plt\n",
    "from sklearn.decomposition import PCA\n",
    "%matplotlib inline"
   ]
  },
  {
   "cell_type": "code",
   "execution_count": 2,
   "id": "5977e6c6",
   "metadata": {},
   "outputs": [],
   "source": [
    "rawdat = np.loadtxt('single_SA_18feb.txt', delimiter=',')\n",
    "sadat = np.delete(rawdat, 0, 1)\n",
    "columns = ['Error', 'k', 'mu', 'Rhf', 'Qhf', 'Phf', 'Y', 'Ks', 'DC', 'DS']\n",
    "dat = pd.DataFrame(sadat, columns=columns)"
   ]
  },
  {
   "cell_type": "code",
   "execution_count": 3,
   "id": "aa263b31",
   "metadata": {},
   "outputs": [
    {
     "data": {
      "text/html": [
       "<div>\n",
       "<style scoped>\n",
       "    .dataframe tbody tr th:only-of-type {\n",
       "        vertical-align: middle;\n",
       "    }\n",
       "\n",
       "    .dataframe tbody tr th {\n",
       "        vertical-align: top;\n",
       "    }\n",
       "\n",
       "    .dataframe thead th {\n",
       "        text-align: right;\n",
       "    }\n",
       "</style>\n",
       "<table border=\"1\" class=\"dataframe\">\n",
       "  <thead>\n",
       "    <tr style=\"text-align: right;\">\n",
       "      <th></th>\n",
       "      <th>Error</th>\n",
       "      <th>k</th>\n",
       "      <th>mu</th>\n",
       "      <th>Rhf</th>\n",
       "      <th>Qhf</th>\n",
       "      <th>Phf</th>\n",
       "      <th>Y</th>\n",
       "      <th>Ks</th>\n",
       "      <th>DC</th>\n",
       "      <th>DS</th>\n",
       "    </tr>\n",
       "  </thead>\n",
       "  <tbody>\n",
       "    <tr>\n",
       "      <th>0</th>\n",
       "      <td>47401.485312</td>\n",
       "      <td>1.489665</td>\n",
       "      <td>0.000460</td>\n",
       "      <td>4.344431</td>\n",
       "      <td>5.654143</td>\n",
       "      <td>54.288537</td>\n",
       "      <td>142.913140</td>\n",
       "      <td>0.000626</td>\n",
       "      <td>16036.727545</td>\n",
       "      <td>313.574175</td>\n",
       "    </tr>\n",
       "    <tr>\n",
       "      <th>1</th>\n",
       "      <td>47540.343171</td>\n",
       "      <td>1.464836</td>\n",
       "      <td>0.000901</td>\n",
       "      <td>2.161496</td>\n",
       "      <td>43.279294</td>\n",
       "      <td>34.879367</td>\n",
       "      <td>48.402091</td>\n",
       "      <td>0.000299</td>\n",
       "      <td>532.567970</td>\n",
       "      <td>37.200207</td>\n",
       "    </tr>\n",
       "    <tr>\n",
       "      <th>2</th>\n",
       "      <td>49168.011528</td>\n",
       "      <td>1.496002</td>\n",
       "      <td>0.000872</td>\n",
       "      <td>2.137912</td>\n",
       "      <td>188.436041</td>\n",
       "      <td>63.057993</td>\n",
       "      <td>163.794709</td>\n",
       "      <td>0.000035</td>\n",
       "      <td>3664.925571</td>\n",
       "      <td>133.633195</td>\n",
       "    </tr>\n",
       "    <tr>\n",
       "      <th>3</th>\n",
       "      <td>45485.060354</td>\n",
       "      <td>1.478141</td>\n",
       "      <td>0.000565</td>\n",
       "      <td>3.519998</td>\n",
       "      <td>18.082985</td>\n",
       "      <td>47.807168</td>\n",
       "      <td>58.743889</td>\n",
       "      <td>0.000039</td>\n",
       "      <td>8979.368597</td>\n",
       "      <td>18.369018</td>\n",
       "    </tr>\n",
       "    <tr>\n",
       "      <th>4</th>\n",
       "      <td>46934.374666</td>\n",
       "      <td>1.625972</td>\n",
       "      <td>0.000439</td>\n",
       "      <td>4.486244</td>\n",
       "      <td>6.545004</td>\n",
       "      <td>44.554443</td>\n",
       "      <td>93.210647</td>\n",
       "      <td>0.000691</td>\n",
       "      <td>26271.819277</td>\n",
       "      <td>123.988604</td>\n",
       "    </tr>\n",
       "    <tr>\n",
       "      <th>...</th>\n",
       "      <td>...</td>\n",
       "      <td>...</td>\n",
       "      <td>...</td>\n",
       "      <td>...</td>\n",
       "      <td>...</td>\n",
       "      <td>...</td>\n",
       "      <td>...</td>\n",
       "      <td>...</td>\n",
       "      <td>...</td>\n",
       "      <td>...</td>\n",
       "    </tr>\n",
       "    <tr>\n",
       "      <th>95</th>\n",
       "      <td>46699.436722</td>\n",
       "      <td>0.897403</td>\n",
       "      <td>0.000723</td>\n",
       "      <td>2.954937</td>\n",
       "      <td>27.501195</td>\n",
       "      <td>165.447313</td>\n",
       "      <td>51.931741</td>\n",
       "      <td>0.000078</td>\n",
       "      <td>1411.815067</td>\n",
       "      <td>26.614635</td>\n",
       "    </tr>\n",
       "    <tr>\n",
       "      <th>96</th>\n",
       "      <td>47442.687143</td>\n",
       "      <td>1.015571</td>\n",
       "      <td>0.000539</td>\n",
       "      <td>3.771925</td>\n",
       "      <td>16.567740</td>\n",
       "      <td>31.235461</td>\n",
       "      <td>44.048715</td>\n",
       "      <td>0.000064</td>\n",
       "      <td>14512.851657</td>\n",
       "      <td>177.699903</td>\n",
       "    </tr>\n",
       "    <tr>\n",
       "      <th>97</th>\n",
       "      <td>48783.677245</td>\n",
       "      <td>1.332187</td>\n",
       "      <td>0.000686</td>\n",
       "      <td>2.788698</td>\n",
       "      <td>13.716194</td>\n",
       "      <td>244.898576</td>\n",
       "      <td>206.079688</td>\n",
       "      <td>0.000046</td>\n",
       "      <td>1767.205329</td>\n",
       "      <td>36.629513</td>\n",
       "    </tr>\n",
       "    <tr>\n",
       "      <th>98</th>\n",
       "      <td>46708.543551</td>\n",
       "      <td>1.673072</td>\n",
       "      <td>0.000418</td>\n",
       "      <td>4.710452</td>\n",
       "      <td>11.860550</td>\n",
       "      <td>11.659345</td>\n",
       "      <td>83.260500</td>\n",
       "      <td>0.000095</td>\n",
       "      <td>49539.839131</td>\n",
       "      <td>133.729302</td>\n",
       "    </tr>\n",
       "    <tr>\n",
       "      <th>99</th>\n",
       "      <td>49084.377058</td>\n",
       "      <td>1.374667</td>\n",
       "      <td>0.000765</td>\n",
       "      <td>2.488921</td>\n",
       "      <td>21.822693</td>\n",
       "      <td>25.934813</td>\n",
       "      <td>88.744553</td>\n",
       "      <td>0.000102</td>\n",
       "      <td>1042.365466</td>\n",
       "      <td>207.867782</td>\n",
       "    </tr>\n",
       "  </tbody>\n",
       "</table>\n",
       "<p>100 rows × 10 columns</p>\n",
       "</div>"
      ],
      "text/plain": [
       "           Error         k        mu       Rhf         Qhf         Phf  \\\n",
       "0   47401.485312  1.489665  0.000460  4.344431    5.654143   54.288537   \n",
       "1   47540.343171  1.464836  0.000901  2.161496   43.279294   34.879367   \n",
       "2   49168.011528  1.496002  0.000872  2.137912  188.436041   63.057993   \n",
       "3   45485.060354  1.478141  0.000565  3.519998   18.082985   47.807168   \n",
       "4   46934.374666  1.625972  0.000439  4.486244    6.545004   44.554443   \n",
       "..           ...       ...       ...       ...         ...         ...   \n",
       "95  46699.436722  0.897403  0.000723  2.954937   27.501195  165.447313   \n",
       "96  47442.687143  1.015571  0.000539  3.771925   16.567740   31.235461   \n",
       "97  48783.677245  1.332187  0.000686  2.788698   13.716194  244.898576   \n",
       "98  46708.543551  1.673072  0.000418  4.710452   11.860550   11.659345   \n",
       "99  49084.377058  1.374667  0.000765  2.488921   21.822693   25.934813   \n",
       "\n",
       "             Y        Ks            DC          DS  \n",
       "0   142.913140  0.000626  16036.727545  313.574175  \n",
       "1    48.402091  0.000299    532.567970   37.200207  \n",
       "2   163.794709  0.000035   3664.925571  133.633195  \n",
       "3    58.743889  0.000039   8979.368597   18.369018  \n",
       "4    93.210647  0.000691  26271.819277  123.988604  \n",
       "..         ...       ...           ...         ...  \n",
       "95   51.931741  0.000078   1411.815067   26.614635  \n",
       "96   44.048715  0.000064  14512.851657  177.699903  \n",
       "97  206.079688  0.000046   1767.205329   36.629513  \n",
       "98   83.260500  0.000095  49539.839131  133.729302  \n",
       "99   88.744553  0.000102   1042.365466  207.867782  \n",
       "\n",
       "[100 rows x 10 columns]"
      ]
     },
     "execution_count": 3,
     "metadata": {},
     "output_type": "execute_result"
    }
   ],
   "source": [
    "dat"
   ]
  },
  {
   "cell_type": "code",
   "execution_count": 4,
   "id": "93838e38",
   "metadata": {},
   "outputs": [
    {
     "data": {
      "text/plain": [
       "42253.49560555111"
      ]
     },
     "execution_count": 4,
     "metadata": {},
     "output_type": "execute_result"
    }
   ],
   "source": [
    "min(dat.Error)"
   ]
  },
  {
   "cell_type": "code",
   "execution_count": 57,
   "id": "177e30cd",
   "metadata": {
    "scrolled": true
   },
   "outputs": [],
   "source": [
    "cutdat = dat[dat.Error < 1.1*min(dat.Error)]\n"
   ]
  },
  {
   "cell_type": "code",
   "execution_count": 58,
   "id": "8300b6f7",
   "metadata": {},
   "outputs": [
    {
     "data": {
      "text/plain": [
       "<AxesSubplot:>"
      ]
     },
     "execution_count": 58,
     "metadata": {},
     "output_type": "execute_result"
    },
    {
     "data": {
      "image/png": "[encoded data removed]",
      "text/plain": [
       "<Figure size 720x720 with 2 Axes>"
      ]
     },
     "metadata": {
      "needs_background": "light"
     },
     "output_type": "display_data"
    }
   ],
   "source": [
    "cutdat_ne = cutdat.drop(\"Error\", axis=1)\n",
    "cutdat_log = np.log10(cutdat_ne)\n",
    "covmat = cutdat_log.cov()\n",
    "fig, ax = plt.subplots(figsize=(10,10)) \n",
    "sns.heatmap(covmat, cmap ='coolwarm', vmin=-0.7, vmax=0.7, linewidths = 0.50, annot = True, ax=ax)"
   ]
  },
  {
   "cell_type": "code",
   "execution_count": 59,
   "id": "1a1c0c38",
   "metadata": {
    "scrolled": true
   },
   "outputs": [
    {
     "data": {
      "text/plain": [
       "<AxesSubplot:>"
      ]
     },
     "execution_count": 59,
     "metadata": {},
     "output_type": "execute_result"
    },
    {
     "data": {
      "image/png": "[encoded data removed]",
      "text/plain": [
       "<Figure size 720x720 with 2 Axes>"
      ]
     },
     "metadata": {
      "needs_background": "light"
     },
     "output_type": "display_data"
    }
   ],
   "source": [
    "cutdat_ne = cutdat.drop(\"Error\", axis=1)\n",
    "cutdat_log = np.log10(cutdat)\n",
    "covmat = cutdat_log.cov()\n",
    "fig, ax = plt.subplots(figsize=(10,10)) \n",
    "sns.heatmap(covmat, cmap ='coolwarm', vmin=-0.7, vmax=0.7, linewidths = 0.50, annot = True, ax=ax)"
   ]
  },
  {
   "cell_type": "code",
   "execution_count": 60,
   "id": "f6a046a9",
   "metadata": {},
   "outputs": [
    {
     "data": {
      "text/plain": [
       "<AxesSubplot:>"
      ]
     },
     "execution_count": 60,
     "metadata": {},
     "output_type": "execute_result"
    },
    {
     "data": {
      "image/png": "[encoded data removed]",
      "text/plain": [
       "<Figure size 720x720 with 2 Axes>"
      ]
     },
     "metadata": {
      "needs_background": "light"
     },
     "output_type": "display_data"
    }
   ],
   "source": [
    "corrmat = cutdat_log.corr()\n",
    "fig, ax = plt.subplots(figsize=(10,10)) \n",
    "sns.heatmap(corrmat, cmap ='coolwarm', vmin=-1, vmax=1, linewidths = 0.50, annot = True, ax=ax)"
   ]
  },
  {
   "cell_type": "code",
   "execution_count": 80,
   "id": "f361c69c",
   "metadata": {
    "scrolled": true
   },
   "outputs": [
    {
     "data": {
      "text/plain": [
       "<AxesSubplot:>"
      ]
     },
     "execution_count": 80,
     "metadata": {},
     "output_type": "execute_result"
    },
    {
     "data": {
      "image/png": "[encoded data removed]",
      "text/plain": [
       "<Figure size 720x720 with 2 Axes>"
      ]
     },
     "metadata": {
      "needs_background": "light"
     },
     "output_type": "display_data"
    }
   ],
   "source": [
    "corrmat = cutdat_log.corr()\n",
    "fig, ax = plt.subplots(figsize=(10,10)) \n",
    "sns.heatmap(corrmat, cmap ='coolwarm', vmin=-1, vmax=1, linewidths = 0.50, annot = True, ax=ax)"
   ]
  },
  {
   "cell_type": "code",
   "execution_count": 5,
   "id": "c1ea6b0a",
   "metadata": {},
   "outputs": [
    {
     "data": {
      "text/html": [
       "<div>\n",
       "<style scoped>\n",
       "    .dataframe tbody tr th:only-of-type {\n",
       "        vertical-align: middle;\n",
       "    }\n",
       "\n",
       "    .dataframe tbody tr th {\n",
       "        vertical-align: top;\n",
       "    }\n",
       "\n",
       "    .dataframe thead th {\n",
       "        text-align: right;\n",
       "    }\n",
       "</style>\n",
       "<table border=\"1\" class=\"dataframe\">\n",
       "  <thead>\n",
       "    <tr style=\"text-align: right;\">\n",
       "      <th></th>\n",
       "      <th>Error</th>\n",
       "      <th>k</th>\n",
       "      <th>mu</th>\n",
       "      <th>Rhf</th>\n",
       "      <th>Qhf</th>\n",
       "      <th>Phf</th>\n",
       "      <th>Y</th>\n",
       "      <th>Ks</th>\n",
       "      <th>DC</th>\n",
       "      <th>DS</th>\n",
       "    </tr>\n",
       "  </thead>\n",
       "  <tbody>\n",
       "    <tr>\n",
       "      <th>70</th>\n",
       "      <td>42253.495606</td>\n",
       "      <td>0.984065</td>\n",
       "      <td>0.000321</td>\n",
       "      <td>7.322266</td>\n",
       "      <td>8.037921</td>\n",
       "      <td>4.056596</td>\n",
       "      <td>55.456763</td>\n",
       "      <td>0.000166</td>\n",
       "      <td>117655.09032</td>\n",
       "      <td>23.447679</td>\n",
       "    </tr>\n",
       "  </tbody>\n",
       "</table>\n",
       "</div>"
      ],
      "text/plain": [
       "           Error         k        mu       Rhf       Qhf       Phf          Y  \\\n",
       "70  42253.495606  0.984065  0.000321  7.322266  8.037921  4.056596  55.456763   \n",
       "\n",
       "          Ks            DC         DS  \n",
       "70  0.000166  117655.09032  23.447679  "
      ]
     },
     "execution_count": 5,
     "metadata": {},
     "output_type": "execute_result"
    }
   ],
   "source": [
    "dat[dat.Error == min(dat.Error)]"
   ]
  },
  {
   "cell_type": "code",
   "execution_count": 61,
   "id": "6fc3d2d3",
   "metadata": {
    "scrolled": true
   },
   "outputs": [
    {
     "data": {
      "text/html": [
       "<div>\n",
       "<style scoped>\n",
       "    .dataframe tbody tr th:only-of-type {\n",
       "        vertical-align: middle;\n",
       "    }\n",
       "\n",
       "    .dataframe tbody tr th {\n",
       "        vertical-align: top;\n",
       "    }\n",
       "\n",
       "    .dataframe thead th {\n",
       "        text-align: right;\n",
       "    }\n",
       "</style>\n",
       "<table border=\"1\" class=\"dataframe\">\n",
       "  <thead>\n",
       "    <tr style=\"text-align: right;\">\n",
       "      <th></th>\n",
       "      <th>Error</th>\n",
       "      <th>k</th>\n",
       "      <th>mu</th>\n",
       "      <th>Rhf</th>\n",
       "      <th>Qhf</th>\n",
       "      <th>Phf</th>\n",
       "      <th>Y</th>\n",
       "      <th>Ks</th>\n",
       "      <th>DC</th>\n",
       "      <th>DS</th>\n",
       "    </tr>\n",
       "  </thead>\n",
       "  <tbody>\n",
       "    <tr>\n",
       "      <th>3</th>\n",
       "      <td>45485.060354</td>\n",
       "      <td>1.478141</td>\n",
       "      <td>0.000565</td>\n",
       "      <td>3.519998</td>\n",
       "      <td>18.082985</td>\n",
       "      <td>47.807168</td>\n",
       "      <td>58.743889</td>\n",
       "      <td>0.000039</td>\n",
       "      <td>8979.368597</td>\n",
       "      <td>18.369018</td>\n",
       "    </tr>\n",
       "    <tr>\n",
       "      <th>8</th>\n",
       "      <td>44390.336989</td>\n",
       "      <td>0.896412</td>\n",
       "      <td>0.000421</td>\n",
       "      <td>5.310237</td>\n",
       "      <td>4.374675</td>\n",
       "      <td>23.172183</td>\n",
       "      <td>51.924492</td>\n",
       "      <td>0.000382</td>\n",
       "      <td>16055.628739</td>\n",
       "      <td>25.154274</td>\n",
       "    </tr>\n",
       "    <tr>\n",
       "      <th>11</th>\n",
       "      <td>45849.926535</td>\n",
       "      <td>0.966273</td>\n",
       "      <td>0.000615</td>\n",
       "      <td>3.411876</td>\n",
       "      <td>9.566626</td>\n",
       "      <td>40.960432</td>\n",
       "      <td>48.116245</td>\n",
       "      <td>0.000125</td>\n",
       "      <td>3167.821110</td>\n",
       "      <td>34.825600</td>\n",
       "    </tr>\n",
       "    <tr>\n",
       "      <th>16</th>\n",
       "      <td>44330.643673</td>\n",
       "      <td>1.203820</td>\n",
       "      <td>0.000426</td>\n",
       "      <td>5.164442</td>\n",
       "      <td>4.052875</td>\n",
       "      <td>350.676489</td>\n",
       "      <td>47.623051</td>\n",
       "      <td>0.000085</td>\n",
       "      <td>19753.438089</td>\n",
       "      <td>38.729629</td>\n",
       "    </tr>\n",
       "    <tr>\n",
       "      <th>17</th>\n",
       "      <td>45420.723059</td>\n",
       "      <td>1.031431</td>\n",
       "      <td>0.000570</td>\n",
       "      <td>3.654164</td>\n",
       "      <td>17.542761</td>\n",
       "      <td>157.415146</td>\n",
       "      <td>54.238059</td>\n",
       "      <td>0.000091</td>\n",
       "      <td>6350.934299</td>\n",
       "      <td>23.304648</td>\n",
       "    </tr>\n",
       "    <tr>\n",
       "      <th>23</th>\n",
       "      <td>44995.659112</td>\n",
       "      <td>1.142456</td>\n",
       "      <td>0.000507</td>\n",
       "      <td>4.104407</td>\n",
       "      <td>1.765315</td>\n",
       "      <td>35.207331</td>\n",
       "      <td>51.939059</td>\n",
       "      <td>0.000106</td>\n",
       "      <td>5362.962605</td>\n",
       "      <td>27.805528</td>\n",
       "    </tr>\n",
       "    <tr>\n",
       "      <th>26</th>\n",
       "      <td>46151.705253</td>\n",
       "      <td>0.666567</td>\n",
       "      <td>0.000631</td>\n",
       "      <td>3.505568</td>\n",
       "      <td>25.247027</td>\n",
       "      <td>33.760309</td>\n",
       "      <td>51.507140</td>\n",
       "      <td>0.000098</td>\n",
       "      <td>4155.550186</td>\n",
       "      <td>27.218089</td>\n",
       "    </tr>\n",
       "    <tr>\n",
       "      <th>31</th>\n",
       "      <td>44131.144777</td>\n",
       "      <td>1.193663</td>\n",
       "      <td>0.000384</td>\n",
       "      <td>5.787767</td>\n",
       "      <td>9.834281</td>\n",
       "      <td>62.610285</td>\n",
       "      <td>95.059644</td>\n",
       "      <td>0.000044</td>\n",
       "      <td>48255.146010</td>\n",
       "      <td>3.033917</td>\n",
       "    </tr>\n",
       "    <tr>\n",
       "      <th>32</th>\n",
       "      <td>45913.470931</td>\n",
       "      <td>0.537898</td>\n",
       "      <td>0.000578</td>\n",
       "      <td>3.850530</td>\n",
       "      <td>5.703104</td>\n",
       "      <td>10.250021</td>\n",
       "      <td>52.858814</td>\n",
       "      <td>0.000259</td>\n",
       "      <td>3170.117965</td>\n",
       "      <td>30.371456</td>\n",
       "    </tr>\n",
       "    <tr>\n",
       "      <th>36</th>\n",
       "      <td>45517.375683</td>\n",
       "      <td>0.149723</td>\n",
       "      <td>0.000440</td>\n",
       "      <td>5.951258</td>\n",
       "      <td>12.351590</td>\n",
       "      <td>1523.159438</td>\n",
       "      <td>52.474847</td>\n",
       "      <td>0.000328</td>\n",
       "      <td>42667.798059</td>\n",
       "      <td>29.096047</td>\n",
       "    </tr>\n",
       "    <tr>\n",
       "      <th>37</th>\n",
       "      <td>44110.297201</td>\n",
       "      <td>1.028931</td>\n",
       "      <td>0.000421</td>\n",
       "      <td>5.242010</td>\n",
       "      <td>21.984382</td>\n",
       "      <td>82.160201</td>\n",
       "      <td>55.798723</td>\n",
       "      <td>0.000428</td>\n",
       "      <td>40389.363953</td>\n",
       "      <td>21.518747</td>\n",
       "    </tr>\n",
       "    <tr>\n",
       "      <th>40</th>\n",
       "      <td>45988.540324</td>\n",
       "      <td>0.873134</td>\n",
       "      <td>0.000618</td>\n",
       "      <td>3.399124</td>\n",
       "      <td>13.179101</td>\n",
       "      <td>40.676410</td>\n",
       "      <td>49.465514</td>\n",
       "      <td>0.000121</td>\n",
       "      <td>2884.102494</td>\n",
       "      <td>30.660422</td>\n",
       "    </tr>\n",
       "    <tr>\n",
       "      <th>41</th>\n",
       "      <td>43805.577610</td>\n",
       "      <td>0.915505</td>\n",
       "      <td>0.000370</td>\n",
       "      <td>6.272744</td>\n",
       "      <td>6.252245</td>\n",
       "      <td>0.368404</td>\n",
       "      <td>97.179265</td>\n",
       "      <td>0.006751</td>\n",
       "      <td>78824.379750</td>\n",
       "      <td>2.852110</td>\n",
       "    </tr>\n",
       "    <tr>\n",
       "      <th>42</th>\n",
       "      <td>46153.074629</td>\n",
       "      <td>1.438468</td>\n",
       "      <td>0.000478</td>\n",
       "      <td>4.258322</td>\n",
       "      <td>14.436612</td>\n",
       "      <td>257.757103</td>\n",
       "      <td>43.307593</td>\n",
       "      <td>0.000679</td>\n",
       "      <td>14905.285334</td>\n",
       "      <td>60.028362</td>\n",
       "    </tr>\n",
       "    <tr>\n",
       "      <th>43</th>\n",
       "      <td>46263.874549</td>\n",
       "      <td>0.462448</td>\n",
       "      <td>0.000564</td>\n",
       "      <td>4.005720</td>\n",
       "      <td>20.337130</td>\n",
       "      <td>44.025131</td>\n",
       "      <td>46.975519</td>\n",
       "      <td>0.000077</td>\n",
       "      <td>7696.575699</td>\n",
       "      <td>38.355823</td>\n",
       "    </tr>\n",
       "    <tr>\n",
       "      <th>47</th>\n",
       "      <td>45191.150983</td>\n",
       "      <td>0.902360</td>\n",
       "      <td>0.000556</td>\n",
       "      <td>3.827148</td>\n",
       "      <td>30.012721</td>\n",
       "      <td>30.914258</td>\n",
       "      <td>57.801710</td>\n",
       "      <td>0.000009</td>\n",
       "      <td>12785.844717</td>\n",
       "      <td>19.857701</td>\n",
       "    </tr>\n",
       "    <tr>\n",
       "      <th>49</th>\n",
       "      <td>44884.096249</td>\n",
       "      <td>0.716551</td>\n",
       "      <td>0.000530</td>\n",
       "      <td>4.160592</td>\n",
       "      <td>25.339647</td>\n",
       "      <td>93.451921</td>\n",
       "      <td>55.154077</td>\n",
       "      <td>0.000591</td>\n",
       "      <td>20812.962692</td>\n",
       "      <td>23.408127</td>\n",
       "    </tr>\n",
       "    <tr>\n",
       "      <th>53</th>\n",
       "      <td>45056.995061</td>\n",
       "      <td>0.945773</td>\n",
       "      <td>0.000537</td>\n",
       "      <td>3.997035</td>\n",
       "      <td>6.931055</td>\n",
       "      <td>24.084741</td>\n",
       "      <td>52.085437</td>\n",
       "      <td>0.000027</td>\n",
       "      <td>7424.017703</td>\n",
       "      <td>24.887069</td>\n",
       "    </tr>\n",
       "    <tr>\n",
       "      <th>63</th>\n",
       "      <td>46309.418684</td>\n",
       "      <td>1.517759</td>\n",
       "      <td>0.000386</td>\n",
       "      <td>5.275347</td>\n",
       "      <td>11.200913</td>\n",
       "      <td>41.063387</td>\n",
       "      <td>212.548250</td>\n",
       "      <td>0.000366</td>\n",
       "      <td>66009.425828</td>\n",
       "      <td>94.304708</td>\n",
       "    </tr>\n",
       "    <tr>\n",
       "      <th>70</th>\n",
       "      <td>42253.495606</td>\n",
       "      <td>0.984065</td>\n",
       "      <td>0.000321</td>\n",
       "      <td>7.322266</td>\n",
       "      <td>8.037921</td>\n",
       "      <td>4.056596</td>\n",
       "      <td>55.456763</td>\n",
       "      <td>0.000166</td>\n",
       "      <td>117655.090320</td>\n",
       "      <td>23.447679</td>\n",
       "    </tr>\n",
       "    <tr>\n",
       "      <th>74</th>\n",
       "      <td>46394.908737</td>\n",
       "      <td>1.158398</td>\n",
       "      <td>0.000455</td>\n",
       "      <td>4.502437</td>\n",
       "      <td>13.956391</td>\n",
       "      <td>13.549583</td>\n",
       "      <td>43.618198</td>\n",
       "      <td>0.000224</td>\n",
       "      <td>35180.629629</td>\n",
       "      <td>146.481879</td>\n",
       "    </tr>\n",
       "    <tr>\n",
       "      <th>76</th>\n",
       "      <td>46025.077365</td>\n",
       "      <td>0.974888</td>\n",
       "      <td>0.000645</td>\n",
       "      <td>3.249016</td>\n",
       "      <td>13.140646</td>\n",
       "      <td>148.374379</td>\n",
       "      <td>49.222949</td>\n",
       "      <td>0.000139</td>\n",
       "      <td>2316.064649</td>\n",
       "      <td>32.673213</td>\n",
       "    </tr>\n",
       "    <tr>\n",
       "      <th>77</th>\n",
       "      <td>44418.179387</td>\n",
       "      <td>1.140008</td>\n",
       "      <td>0.000473</td>\n",
       "      <td>4.464816</td>\n",
       "      <td>12.743573</td>\n",
       "      <td>15.233767</td>\n",
       "      <td>68.603894</td>\n",
       "      <td>0.000045</td>\n",
       "      <td>24425.214329</td>\n",
       "      <td>12.212673</td>\n",
       "    </tr>\n",
       "    <tr>\n",
       "      <th>78</th>\n",
       "      <td>45938.830459</td>\n",
       "      <td>0.982356</td>\n",
       "      <td>0.000627</td>\n",
       "      <td>3.359963</td>\n",
       "      <td>44.823826</td>\n",
       "      <td>31.199300</td>\n",
       "      <td>67.433966</td>\n",
       "      <td>0.000236</td>\n",
       "      <td>6680.373449</td>\n",
       "      <td>11.750128</td>\n",
       "    </tr>\n",
       "    <tr>\n",
       "      <th>79</th>\n",
       "      <td>45776.709105</td>\n",
       "      <td>1.205907</td>\n",
       "      <td>0.000651</td>\n",
       "      <td>3.088918</td>\n",
       "      <td>49.403954</td>\n",
       "      <td>967.226400</td>\n",
       "      <td>50.709944</td>\n",
       "      <td>0.000037</td>\n",
       "      <td>9884.216294</td>\n",
       "      <td>28.768626</td>\n",
       "    </tr>\n",
       "    <tr>\n",
       "      <th>80</th>\n",
       "      <td>44355.844193</td>\n",
       "      <td>1.306618</td>\n",
       "      <td>0.000455</td>\n",
       "      <td>4.691815</td>\n",
       "      <td>5.940915</td>\n",
       "      <td>18.290125</td>\n",
       "      <td>52.450795</td>\n",
       "      <td>0.000110</td>\n",
       "      <td>21464.986297</td>\n",
       "      <td>26.867717</td>\n",
       "    </tr>\n",
       "    <tr>\n",
       "      <th>81</th>\n",
       "      <td>45924.616272</td>\n",
       "      <td>1.613987</td>\n",
       "      <td>0.000505</td>\n",
       "      <td>3.878190</td>\n",
       "      <td>21.469481</td>\n",
       "      <td>33.948735</td>\n",
       "      <td>44.081909</td>\n",
       "      <td>0.000009</td>\n",
       "      <td>31703.975006</td>\n",
       "      <td>64.096495</td>\n",
       "    </tr>\n",
       "    <tr>\n",
       "      <th>85</th>\n",
       "      <td>45121.817994</td>\n",
       "      <td>0.828924</td>\n",
       "      <td>0.000522</td>\n",
       "      <td>4.213427</td>\n",
       "      <td>9.161554</td>\n",
       "      <td>456.370630</td>\n",
       "      <td>51.942475</td>\n",
       "      <td>0.000036</td>\n",
       "      <td>8665.054461</td>\n",
       "      <td>30.868389</td>\n",
       "    </tr>\n",
       "    <tr>\n",
       "      <th>89</th>\n",
       "      <td>46264.570223</td>\n",
       "      <td>0.728538</td>\n",
       "      <td>0.000598</td>\n",
       "      <td>3.627824</td>\n",
       "      <td>39.645795</td>\n",
       "      <td>23.791816</td>\n",
       "      <td>53.905432</td>\n",
       "      <td>0.000116</td>\n",
       "      <td>5773.058532</td>\n",
       "      <td>25.097113</td>\n",
       "    </tr>\n",
       "    <tr>\n",
       "      <th>94</th>\n",
       "      <td>45808.562331</td>\n",
       "      <td>0.942522</td>\n",
       "      <td>0.000626</td>\n",
       "      <td>3.416345</td>\n",
       "      <td>21.343427</td>\n",
       "      <td>187.276789</td>\n",
       "      <td>54.107242</td>\n",
       "      <td>0.000011</td>\n",
       "      <td>4341.040232</td>\n",
       "      <td>23.215821</td>\n",
       "    </tr>\n",
       "  </tbody>\n",
       "</table>\n",
       "</div>"
      ],
      "text/plain": [
       "           Error         k        mu       Rhf        Qhf          Phf  \\\n",
       "3   45485.060354  1.478141  0.000565  3.519998  18.082985    47.807168   \n",
       "8   44390.336989  0.896412  0.000421  5.310237   4.374675    23.172183   \n",
       "11  45849.926535  0.966273  0.000615  3.411876   9.566626    40.960432   \n",
       "16  44330.643673  1.203820  0.000426  5.164442   4.052875   350.676489   \n",
       "17  45420.723059  1.031431  0.000570  3.654164  17.542761   157.415146   \n",
       "23  44995.659112  1.142456  0.000507  4.104407   1.765315    35.207331   \n",
       "26  46151.705253  0.666567  0.000631  3.505568  25.247027    33.760309   \n",
       "31  44131.144777  1.193663  0.000384  5.787767   9.834281    62.610285   \n",
       "32  45913.470931  0.537898  0.000578  3.850530   5.703104    10.250021   \n",
       "36  45517.375683  0.149723  0.000440  5.951258  12.351590  1523.159438   \n",
       "37  44110.297201  1.028931  0.000421  5.242010  21.984382    82.160201   \n",
       "40  45988.540324  0.873134  0.000618  3.399124  13.179101    40.676410   \n",
       "41  43805.577610  0.915505  0.000370  6.272744   6.252245     0.368404   \n",
       "42  46153.074629  1.438468  0.000478  4.258322  14.436612   257.757103   \n",
       "43  46263.874549  0.462448  0.000564  4.005720  20.337130    44.025131   \n",
       "47  45191.150983  0.902360  0.000556  3.827148  30.012721    30.914258   \n",
       "49  44884.096249  0.716551  0.000530  4.160592  25.339647    93.451921   \n",
       "53  45056.995061  0.945773  0.000537  3.997035   6.931055    24.084741   \n",
       "63  46309.418684  1.517759  0.000386  5.275347  11.200913    41.063387   \n",
       "70  42253.495606  0.984065  0.000321  7.322266   8.037921     4.056596   \n",
       "74  46394.908737  1.158398  0.000455  4.502437  13.956391    13.549583   \n",
       "76  46025.077365  0.974888  0.000645  3.249016  13.140646   148.374379   \n",
       "77  44418.179387  1.140008  0.000473  4.464816  12.743573    15.233767   \n",
       "78  45938.830459  0.982356  0.000627  3.359963  44.823826    31.199300   \n",
       "79  45776.709105  1.205907  0.000651  3.088918  49.403954   967.226400   \n",
       "80  44355.844193  1.306618  0.000455  4.691815   5.940915    18.290125   \n",
       "81  45924.616272  1.613987  0.000505  3.878190  21.469481    33.948735   \n",
       "85  45121.817994  0.828924  0.000522  4.213427   9.161554   456.370630   \n",
       "89  46264.570223  0.728538  0.000598  3.627824  39.645795    23.791816   \n",
       "94  45808.562331  0.942522  0.000626  3.416345  21.343427   187.276789   \n",
       "\n",
       "             Y        Ks             DC          DS  \n",
       "3    58.743889  0.000039    8979.368597   18.369018  \n",
       "8    51.924492  0.000382   16055.628739   25.154274  \n",
       "11   48.116245  0.000125    3167.821110   34.825600  \n",
       "16   47.623051  0.000085   19753.438089   38.729629  \n",
       "17   54.238059  0.000091    6350.934299   23.304648  \n",
       "23   51.939059  0.000106    5362.962605   27.805528  \n",
       "26   51.507140  0.000098    4155.550186   27.218089  \n",
       "31   95.059644  0.000044   48255.146010    3.033917  \n",
       "32   52.858814  0.000259    3170.117965   30.371456  \n",
       "36   52.474847  0.000328   42667.798059   29.096047  \n",
       "37   55.798723  0.000428   40389.363953   21.518747  \n",
       "40   49.465514  0.000121    2884.102494   30.660422  \n",
       "41   97.179265  0.006751   78824.379750    2.852110  \n",
       "42   43.307593  0.000679   14905.285334   60.028362  \n",
       "43   46.975519  0.000077    7696.575699   38.355823  \n",
       "47   57.801710  0.000009   12785.844717   19.857701  \n",
       "49   55.154077  0.000591   20812.962692   23.408127  \n",
       "53   52.085437  0.000027    7424.017703   24.887069  \n",
       "63  212.548250  0.000366   66009.425828   94.304708  \n",
       "70   55.456763  0.000166  117655.090320   23.447679  \n",
       "74   43.618198  0.000224   35180.629629  146.481879  \n",
       "76   49.222949  0.000139    2316.064649   32.673213  \n",
       "77   68.603894  0.000045   24425.214329   12.212673  \n",
       "78   67.433966  0.000236    6680.373449   11.750128  \n",
       "79   50.709944  0.000037    9884.216294   28.768626  \n",
       "80   52.450795  0.000110   21464.986297   26.867717  \n",
       "81   44.081909  0.000009   31703.975006   64.096495  \n",
       "85   51.942475  0.000036    8665.054461   30.868389  \n",
       "89   53.905432  0.000116    5773.058532   25.097113  \n",
       "94   54.107242  0.000011    4341.040232   23.215821  "
      ]
     },
     "execution_count": 61,
     "metadata": {},
     "output_type": "execute_result"
    }
   ],
   "source": [
    "cutdat"
   ]
  },
  {
   "cell_type": "code",
   "execution_count": 77,
   "id": "62714b0d",
   "metadata": {},
   "outputs": [],
   "source": []
  },
  {
   "cell_type": "code",
   "execution_count": 62,
   "id": "78a93cac",
   "metadata": {},
   "outputs": [
    {
     "name": "stdout",
     "output_type": "stream",
     "text": [
      "          PC0       PC1       PC2       PC3       PC4       PC5       PC6  \\\n",
      "k    0.111947 -0.628842 -0.061552  0.095611 -0.417470 -0.349403 -0.508692   \n",
      "mu  -0.507205 -0.013850 -0.116650  0.131755  0.181642  0.074011 -0.028550   \n",
      "Rhf  0.496616  0.223144  0.113048 -0.074377 -0.177149 -0.024533  0.162290   \n",
      "Qhf -0.297955  0.012785  0.064329  0.717472 -0.229548 -0.290760  0.406912   \n",
      "Phf -0.045638  0.436611  0.660711  0.238185 -0.009974 -0.039836 -0.553172   \n",
      "Y    0.286950 -0.278500 -0.028905  0.517989  0.153757  0.728640 -0.117501   \n",
      "Ks   0.269657  0.221458 -0.474944  0.290336  0.559247 -0.414853 -0.279814   \n",
      "DC   0.482315  0.063790  0.080077  0.198180 -0.163111 -0.166220  0.312519   \n",
      "DS   0.070997 -0.482810  0.544360 -0.067727  0.587833 -0.234652  0.229636   \n",
      "\n",
      "          PC7       PC8  \n",
      "k    0.064667 -0.140651  \n",
      "mu   0.621040 -0.535358  \n",
      "Rhf -0.158899 -0.775691  \n",
      "Qhf -0.296344 -0.039041  \n",
      "Phf  0.066255  0.044066  \n",
      "Y   -0.044923 -0.023824  \n",
      "Ks  -0.069530 -0.019606  \n",
      "DC   0.695999  0.285127  \n",
      "DS  -0.037436 -0.078720  \n"
     ]
    },
    {
     "data": {
      "text/plain": [
       "Text(0.5, 0, 'Components')"
      ]
     },
     "execution_count": 62,
     "metadata": {},
     "output_type": "execute_result"
    },
    {
     "data": {
      "image/png": "[encoded data removed]",
      "text/plain": [
       "<Figure size 432x288 with 1 Axes>"
      ]
     },
     "metadata": {
      "needs_background": "light"
     },
     "output_type": "display_data"
    }
   ],
   "source": [
    "# You must normalize the data before applying the fit method\n",
    "df_normalized=(cutdat_ne - cutdat_ne.mean()) / cutdat_ne.std()\n",
    "pca = PCA(n_components=cutdat_ne.shape[1])\n",
    "pca.fit(df_normalized)\n",
    "\n",
    "# Reformat and view results\n",
    "loadings = pd.DataFrame(pca.components_.T,\n",
    "columns=['PC%s' % _ for _ in range(len(df_normalized.columns))],\n",
    "index=cutdat_ne.columns)\n",
    "print(loadings)\n",
    "\n",
    "plt.plot(pca.explained_variance_ratio_)\n",
    "plt.ylabel('Explained Variance')\n",
    "plt.xlabel('Components')"
   ]
  },
  {
   "cell_type": "code",
   "execution_count": 63,
   "id": "c2fc2df6",
   "metadata": {},
   "outputs": [
    {
     "data": {
      "application/vnd.plotly.v1+json": {
       "config": {
        "plotlyServerURL": "https://plot.ly"
       },
       "data": [
        {
         "diagonal": {
          "visible": false
         },
         "dimensions": [
          {
           "axis": {
            "matches": true
           },
           "label": "PC 0 (38.8%)",
           "values": [
            -0.9087926746758627,
            1.047447573454316,
            -1.3404213954209645,
            1.0185701067960666,
            -1.096650982564454,
            -0.10234221380322071,
            -1.8559604151569218,
            2.2985203816568585,
            -0.917779631169572,
            1.0665094112775884,
            1.0911240391655406,
            -1.4908040960314002,
            4.677425944572597,
            0.18813041078779333,
            -1.1525932961392344,
            -1.1490335951042017,
            -0.5448839536196682,
            -0.50407811274069,
            3.8292465538709317,
            4.347156205965462,
            0.87164071500133,
            -1.694707829719757,
            0.43137972548148085,
            -2.098487530328482,
            -2.6285493163881415,
            0.7152867004264492,
            -0.049607385948789905,
            -0.4372555525251043,
            -1.906386477126431,
            -1.7041033099935177
           ]
          },
          {
           "axis": {
            "matches": true
           },
           "label": "PC 1 (17.8%)",
           "values": [
            -1.1086084894485218,
            0.4294966657213641,
            -0.3334552984745246,
            -0.011334279864968697,
            -0.08936978412198474,
            -0.4420546320898281,
            0.38521680448275764,
            0.025358766088002048,
            0.6301922451616432,
            4.070122468974165,
            0.3467663774970997,
            -0.08961970705835354,
            1.8781149403686954,
            -1.031678787052448,
            0.7684408132505124,
            0.07686577283853765,
            0.6885698886975147,
            -0.04963406982672374,
            -3.292041967429526,
            0.8905487006050032,
            -2.293375974524057,
            -0.2129098172281442,
            -0.21160866530374461,
            -0.09580998798109544,
            0.4976802265835968,
            -0.5991293320687396,
            -1.9216395659000005,
            0.7218499026430442,
            0.31850217912718115,
            0.0545446063335444
           ]
          }
         ],
         "hovertemplate": "%{xaxis.title.text}=%{x}<br>%{yaxis.title.text}=%{y}<extra></extra>",
         "legendgroup": "",
         "marker": {
          "color": "#636efa",
          "symbol": "circle"
         },
         "name": "",
         "showlegend": false,
         "type": "splom"
        }
       ],
       "layout": {
        "dragmode": "select",
        "legend": {
         "tracegroupgap": 0
        },
        "margin": {
         "t": 60
        },
        "template": {
         "data": {
          "bar": [
           {
            "error_x": {
             "color": "#2a3f5f"
            },
            "error_y": {
             "color": "#2a3f5f"
            },
            "marker": {
             "line": {
              "color": "#E5ECF6",
              "width": 0.5
             }
            },
            "type": "bar"
           }
          ],
          "barpolar": [
           {
            "marker": {
             "line": {
              "color": "#E5ECF6",
              "width": 0.5
             }
            },
            "type": "barpolar"
           }
          ],
          "carpet": [
           {
            "aaxis": {
             "endlinecolor": "#2a3f5f",
             "gridcolor": "white",
             "linecolor": "white",
             "minorgridcolor": "white",
             "startlinecolor": "#2a3f5f"
            },
            "baxis": {
             "endlinecolor": "#2a3f5f",
             "gridcolor": "white",
             "linecolor": "white",
             "minorgridcolor": "white",
             "startlinecolor": "#2a3f5f"
            },
            "type": "carpet"
           }
          ],
          "choropleth": [
           {
            "colorbar": {
             "outlinewidth": 0,
             "ticks": ""
            },
            "type": "choropleth"
           }
          ],
          "contour": [
           {
            "colorbar": {
             "outlinewidth": 0,
             "ticks": ""
            },
            "colorscale": [
             [
              0,
              "#0d0887"
             ],
             [
              0.1111111111111111,
              "#46039f"
             ],
             [
              0.2222222222222222,
              "#7201a8"
             ],
             [
              0.3333333333333333,
              "#9c179e"
             ],
             [
              0.4444444444444444,
              "#bd3786"
             ],
             [
              0.5555555555555556,
              "#d8576b"
             ],
             [
              0.6666666666666666,
              "#ed7953"
             ],
             [
              0.7777777777777778,
              "#fb9f3a"
             ],
             [
              0.8888888888888888,
              "#fdca26"
             ],
             [
              1,
              "#f0f921"
             ]
            ],
            "type": "contour"
           }
          ],
          "contourcarpet": [
           {
            "colorbar": {
             "outlinewidth": 0,
             "ticks": ""
            },
            "type": "contourcarpet"
           }
          ],
          "heatmap": [
           {
            "colorbar": {
             "outlinewidth": 0,
             "ticks": ""
            },
            "colorscale": [
             [
              0,
              "#0d0887"
             ],
             [
              0.1111111111111111,
              "#46039f"
             ],
             [
              0.2222222222222222,
              "#7201a8"
             ],
             [
              0.3333333333333333,
              "#9c179e"
             ],
             [
              0.4444444444444444,
              "#bd3786"
             ],
             [
              0.5555555555555556,
              "#d8576b"
             ],
             [
              0.6666666666666666,
              "#ed7953"
             ],
             [
              0.7777777777777778,
              "#fb9f3a"
             ],
             [
              0.8888888888888888,
              "#fdca26"
             ],
             [
              1,
              "#f0f921"
             ]
            ],
            "type": "heatmap"
           }
          ],
          "heatmapgl": [
           {
            "colorbar": {
             "outlinewidth": 0,
             "ticks": ""
            },
            "colorscale": [
             [
              0,
              "#0d0887"
             ],
             [
              0.1111111111111111,
              "#46039f"
             ],
             [
              0.2222222222222222,
              "#7201a8"
             ],
             [
              0.3333333333333333,
              "#9c179e"
             ],
             [
              0.4444444444444444,
              "#bd3786"
             ],
             [
              0.5555555555555556,
              "#d8576b"
             ],
             [
              0.6666666666666666,
              "#ed7953"
             ],
             [
              0.7777777777777778,
              "#fb9f3a"
             ],
             [
              0.8888888888888888,
              "#fdca26"
             ],
             [
              1,
              "#f0f921"
             ]
            ],
            "type": "heatmapgl"
           }
          ],
          "histogram": [
           {
            "marker": {
             "colorbar": {
              "outlinewidth": 0,
              "ticks": ""
             }
            },
            "type": "histogram"
           }
          ],
          "histogram2d": [
           {
            "colorbar": {
             "outlinewidth": 0,
             "ticks": ""
            },
            "colorscale": [
             [
              0,
              "#0d0887"
             ],
             [
              0.1111111111111111,
              "#46039f"
             ],
             [
              0.2222222222222222,
              "#7201a8"
             ],
             [
              0.3333333333333333,
              "#9c179e"
             ],
             [
              0.4444444444444444,
              "#bd3786"
             ],
             [
              0.5555555555555556,
              "#d8576b"
             ],
             [
              0.6666666666666666,
              "#ed7953"
             ],
             [
              0.7777777777777778,
              "#fb9f3a"
             ],
             [
              0.8888888888888888,
              "#fdca26"
             ],
             [
              1,
              "#f0f921"
             ]
            ],
            "type": "histogram2d"
           }
          ],
          "histogram2dcontour": [
           {
            "colorbar": {
             "outlinewidth": 0,
             "ticks": ""
            },
            "colorscale": [
             [
              0,
              "#0d0887"
             ],
             [
              0.1111111111111111,
              "#46039f"
             ],
             [
              0.2222222222222222,
              "#7201a8"
             ],
             [
              0.3333333333333333,
              "#9c179e"
             ],
             [
              0.4444444444444444,
              "#bd3786"
             ],
             [
              0.5555555555555556,
              "#d8576b"
             ],
             [
              0.6666666666666666,
              "#ed7953"
             ],
             [
              0.7777777777777778,
              "#fb9f3a"
             ],
             [
              0.8888888888888888,
              "#fdca26"
             ],
             [
              1,
              "#f0f921"
             ]
            ],
            "type": "histogram2dcontour"
           }
          ],
          "mesh3d": [
           {
            "colorbar": {
             "outlinewidth": 0,
             "ticks": ""
            },
            "type": "mesh3d"
           }
          ],
          "parcoords": [
           {
            "line": {
             "colorbar": {
              "outlinewidth": 0,
              "ticks": ""
             }
            },
            "type": "parcoords"
           }
          ],
          "pie": [
           {
            "automargin": true,
            "type": "pie"
           }
          ],
          "scatter": [
           {
            "marker": {
             "colorbar": {
              "outlinewidth": 0,
              "ticks": ""
             }
            },
            "type": "scatter"
           }
          ],
          "scatter3d": [
           {
            "line": {
             "colorbar": {
              "outlinewidth": 0,
              "ticks": ""
             }
            },
            "marker": {
             "colorbar": {
              "outlinewidth": 0,
              "ticks": ""
             }
            },
            "type": "scatter3d"
           }
          ],
          "scattercarpet": [
           {
            "marker": {
             "colorbar": {
              "outlinewidth": 0,
              "ticks": ""
             }
            },
            "type": "scattercarpet"
           }
          ],
          "scattergeo": [
           {
            "marker": {
             "colorbar": {
              "outlinewidth": 0,
              "ticks": ""
             }
            },
            "type": "scattergeo"
           }
          ],
          "scattergl": [
           {
            "marker": {
             "colorbar": {
              "outlinewidth": 0,
              "ticks": ""
             }
            },
            "type": "scattergl"
           }
          ],
          "scattermapbox": [
           {
            "marker": {
             "colorbar": {
              "outlinewidth": 0,
              "ticks": ""
             }
            },
            "type": "scattermapbox"
           }
          ],
          "scatterpolar": [
           {
            "marker": {
             "colorbar": {
              "outlinewidth": 0,
              "ticks": ""
             }
            },
            "type": "scatterpolar"
           }
          ],
          "scatterpolargl": [
           {
            "marker": {
             "colorbar": {
              "outlinewidth": 0,
              "ticks": ""
             }
            },
            "type": "scatterpolargl"
           }
          ],
          "scatterternary": [
           {
            "marker": {
             "colorbar": {
              "outlinewidth": 0,
              "ticks": ""
             }
            },
            "type": "scatterternary"
           }
          ],
          "surface": [
           {
            "colorbar": {
             "outlinewidth": 0,
             "ticks": ""
            },
            "colorscale": [
             [
              0,
              "#0d0887"
             ],
             [
              0.1111111111111111,
              "#46039f"
             ],
             [
              0.2222222222222222,
              "#7201a8"
             ],
             [
              0.3333333333333333,
              "#9c179e"
             ],
             [
              0.4444444444444444,
              "#bd3786"
             ],
             [
              0.5555555555555556,
              "#d8576b"
             ],
             [
              0.6666666666666666,
              "#ed7953"
             ],
             [
              0.7777777777777778,
              "#fb9f3a"
             ],
             [
              0.8888888888888888,
              "#fdca26"
             ],
             [
              1,
              "#f0f921"
             ]
            ],
            "type": "surface"
           }
          ],
          "table": [
           {
            "cells": {
             "fill": {
              "color": "#EBF0F8"
             },
             "line": {
              "color": "white"
             }
            },
            "header": {
             "fill": {
              "color": "#C8D4E3"
             },
             "line": {
              "color": "white"
             }
            },
            "type": "table"
           }
          ]
         },
         "layout": {
          "annotationdefaults": {
           "arrowcolor": "#2a3f5f",
           "arrowhead": 0,
           "arrowwidth": 1
          },
          "coloraxis": {
           "colorbar": {
            "outlinewidth": 0,
            "ticks": ""
           }
          },
          "colorscale": {
           "diverging": [
            [
             0,
             "#8e0152"
            ],
            [
             0.1,
             "#c51b7d"
            ],
            [
             0.2,
             "#de77ae"
            ],
            [
             0.3,
             "#f1b6da"
            ],
            [
             0.4,
             "#fde0ef"
            ],
            [
             0.5,
             "#f7f7f7"
            ],
            [
             0.6,
             "#e6f5d0"
            ],
            [
             0.7,
             "#b8e186"
            ],
            [
             0.8,
             "#7fbc41"
            ],
            [
             0.9,
             "#4d9221"
            ],
            [
             1,
             "#276419"
            ]
           ],
           "sequential": [
            [
             0,
             "#0d0887"
            ],
            [
             0.1111111111111111,
             "#46039f"
            ],
            [
             0.2222222222222222,
             "#7201a8"
            ],
            [
             0.3333333333333333,
             "#9c179e"
            ],
            [
             0.4444444444444444,
             "#bd3786"
            ],
            [
             0.5555555555555556,
             "#d8576b"
            ],
            [
             0.6666666666666666,
             "#ed7953"
            ],
            [
             0.7777777777777778,
             "#fb9f3a"
            ],
            [
             0.8888888888888888,
             "#fdca26"
            ],
            [
             1,
             "#f0f921"
            ]
           ],
           "sequentialminus": [
            [
             0,
             "#0d0887"
            ],
            [
             0.1111111111111111,
             "#46039f"
            ],
            [
             0.2222222222222222,
             "#7201a8"
            ],
            [
             0.3333333333333333,
             "#9c179e"
            ],
            [
             0.4444444444444444,
             "#bd3786"
            ],
            [
             0.5555555555555556,
             "#d8576b"
            ],
            [
             0.6666666666666666,
             "#ed7953"
            ],
            [
             0.7777777777777778,
             "#fb9f3a"
            ],
            [
             0.8888888888888888,
             "#fdca26"
            ],
            [
             1,
             "#f0f921"
            ]
           ]
          },
          "colorway": [
           "#636efa",
           "#EF553B",
           "#00cc96",
           "#ab63fa",
           "#FFA15A",
           "#19d3f3",
           "#FF6692",
           "#B6E880",
           "#FF97FF",
           "#FECB52"
          ],
          "font": {
           "color": "#2a3f5f"
          },
          "geo": {
           "bgcolor": "white",
           "lakecolor": "white",
           "landcolor": "#E5ECF6",
           "showlakes": true,
           "showland": true,
           "subunitcolor": "white"
          },
          "hoverlabel": {
           "align": "left"
          },
          "hovermode": "closest",
          "mapbox": {
           "style": "light"
          },
          "paper_bgcolor": "white",
          "plot_bgcolor": "#E5ECF6",
          "polar": {
           "angularaxis": {
            "gridcolor": "white",
            "linecolor": "white",
            "ticks": ""
           },
           "bgcolor": "#E5ECF6",
           "radialaxis": {
            "gridcolor": "white",
            "linecolor": "white",
            "ticks": ""
           }
          },
          "scene": {
           "xaxis": {
            "backgroundcolor": "#E5ECF6",
            "gridcolor": "white",
            "gridwidth": 2,
            "linecolor": "white",
            "showbackground": true,
            "ticks": "",
            "zerolinecolor": "white"
           },
           "yaxis": {
            "backgroundcolor": "#E5ECF6",
            "gridcolor": "white",
            "gridwidth": 2,
            "linecolor": "white",
            "showbackground": true,
            "ticks": "",
            "zerolinecolor": "white"
           },
           "zaxis": {
            "backgroundcolor": "#E5ECF6",
            "gridcolor": "white",
            "gridwidth": 2,
            "linecolor": "white",
            "showbackground": true,
            "ticks": "",
            "zerolinecolor": "white"
           }
          },
          "shapedefaults": {
           "line": {
            "color": "#2a3f5f"
           }
          },
          "ternary": {
           "aaxis": {
            "gridcolor": "white",
            "linecolor": "white",
            "ticks": ""
           },
           "baxis": {
            "gridcolor": "white",
            "linecolor": "white",
            "ticks": ""
           },
           "bgcolor": "#E5ECF6",
           "caxis": {
            "gridcolor": "white",
            "linecolor": "white",
            "ticks": ""
           }
          },
          "title": {
           "x": 0.05
          },
          "xaxis": {
           "automargin": true,
           "gridcolor": "white",
           "linecolor": "white",
           "ticks": "",
           "title": {
            "standoff": 15
           },
           "zerolinecolor": "white",
           "zerolinewidth": 2
          },
          "yaxis": {
           "automargin": true,
           "gridcolor": "white",
           "linecolor": "white",
           "ticks": "",
           "title": {
            "standoff": 15
           },
           "zerolinecolor": "white",
           "zerolinewidth": 2
          }
         }
        }
       }
      },
      "text/html": [
       "<div>\n",
       "        \n",
       "        \n",
       "            <div id=\"e7e7f5c6-52b1-466a-8378-17dbb6dd5622\" class=\"plotly-graph-div\" style=\"height:525px; width:100%;\"></div>\n",
       "            <script type=\"text/javascript\">\n",
       "                require([\"plotly\"], function(Plotly) {\n",
       "                    window.PLOTLYENV=window.PLOTLYENV || {};\n",
       "                    \n",
       "                if (document.getElementById(\"e7e7f5c6-52b1-466a-8378-17dbb6dd5622\")) {\n",
       "                    Plotly.newPlot(\n",
       "                        'e7e7f5c6-52b1-466a-8378-17dbb6dd5622',\n",
       "                        [{\"diagonal\": {\"visible\": false}, \"dimensions\": [{\"axis\": {\"matches\": true}, \"label\": \"PC 0 (38.8%)\", \"values\": [-0.9087926746758627, 1.047447573454316, -1.3404213954209645, 1.0185701067960666, -1.096650982564454, -0.10234221380322071, -1.8559604151569218, 2.2985203816568585, -0.917779631169572, 1.0665094112775884, 1.0911240391655406, -1.4908040960314002, 4.677425944572597, 0.18813041078779333, -1.1525932961392344, -1.1490335951042017, -0.5448839536196682, -0.50407811274069, 3.8292465538709317, 4.347156205965462, 0.87164071500133, -1.694707829719757, 0.43137972548148085, -2.098487530328482, -2.6285493163881415, 0.7152867004264492, -0.049607385948789905, -0.4372555525251043, -1.906386477126431, -1.7041033099935177]}, {\"axis\": {\"matches\": true}, \"label\": \"PC 1 (17.8%)\", \"values\": [-1.1086084894485218, 0.4294966657213641, -0.3334552984745246, -0.011334279864968697, -0.08936978412198474, -0.4420546320898281, 0.38521680448275764, 0.025358766088002048, 0.6301922451616432, 4.070122468974165, 0.3467663774970997, -0.08961970705835354, 1.8781149403686954, -1.031678787052448, 0.7684408132505124, 0.07686577283853765, 0.6885698886975147, -0.04963406982672374, -3.292041967429526, 0.8905487006050032, -2.293375974524057, -0.2129098172281442, -0.21160866530374461, -0.09580998798109544, 0.4976802265835968, -0.5991293320687396, -1.9216395659000005, 0.7218499026430442, 0.31850217912718115, 0.0545446063335444]}], \"hovertemplate\": \"%{xaxis.title.text}=%{x}<br>%{yaxis.title.text}=%{y}<extra></extra>\", \"legendgroup\": \"\", \"marker\": {\"color\": \"#636efa\", \"symbol\": \"circle\"}, \"name\": \"\", \"showlegend\": false, \"type\": \"splom\"}],\n",
       "                        {\"dragmode\": \"select\", \"legend\": {\"tracegroupgap\": 0}, \"margin\": {\"t\": 60}, \"template\": {\"data\": {\"bar\": [{\"error_x\": {\"color\": \"#2a3f5f\"}, \"error_y\": {\"color\": \"#2a3f5f\"}, \"marker\": {\"line\": {\"color\": \"#E5ECF6\", \"width\": 0.5}}, \"type\": \"bar\"}], \"barpolar\": [{\"marker\": {\"line\": {\"color\": \"#E5ECF6\", \"width\": 0.5}}, \"type\": \"barpolar\"}], \"carpet\": [{\"aaxis\": {\"endlinecolor\": \"#2a3f5f\", \"gridcolor\": \"white\", \"linecolor\": \"white\", \"minorgridcolor\": \"white\", \"startlinecolor\": \"#2a3f5f\"}, \"baxis\": {\"endlinecolor\": \"#2a3f5f\", \"gridcolor\": \"white\", \"linecolor\": \"white\", \"minorgridcolor\": \"white\", \"startlinecolor\": \"#2a3f5f\"}, \"type\": \"carpet\"}], \"choropleth\": [{\"colorbar\": {\"outlinewidth\": 0, \"ticks\": \"\"}, \"type\": \"choropleth\"}], \"contour\": [{\"colorbar\": {\"outlinewidth\": 0, \"ticks\": \"\"}, \"colorscale\": [[0.0, \"#0d0887\"], [0.1111111111111111, \"#46039f\"], [0.2222222222222222, \"#7201a8\"], [0.3333333333333333, \"#9c179e\"], [0.4444444444444444, \"#bd3786\"], [0.5555555555555556, \"#d8576b\"], [0.6666666666666666, \"#ed7953\"], [0.7777777777777778, \"#fb9f3a\"], [0.8888888888888888, \"#fdca26\"], [1.0, \"#f0f921\"]], \"type\": \"contour\"}], \"contourcarpet\": [{\"colorbar\": {\"outlinewidth\": 0, \"ticks\": \"\"}, \"type\": \"contourcarpet\"}], \"heatmap\": [{\"colorbar\": {\"outlinewidth\": 0, \"ticks\": \"\"}, \"colorscale\": [[0.0, \"#0d0887\"], [0.1111111111111111, \"#46039f\"], [0.2222222222222222, \"#7201a8\"], [0.3333333333333333, \"#9c179e\"], [0.4444444444444444, \"#bd3786\"], [0.5555555555555556, \"#d8576b\"], [0.6666666666666666, \"#ed7953\"], [0.7777777777777778, \"#fb9f3a\"], [0.8888888888888888, \"#fdca26\"], [1.0, \"#f0f921\"]], \"type\": \"heatmap\"}], \"heatmapgl\": [{\"colorbar\": {\"outlinewidth\": 0, \"ticks\": \"\"}, \"colorscale\": [[0.0, \"#0d0887\"], [0.1111111111111111, \"#46039f\"], [0.2222222222222222, \"#7201a8\"], [0.3333333333333333, \"#9c179e\"], [0.4444444444444444, \"#bd3786\"], [0.5555555555555556, \"#d8576b\"], [0.6666666666666666, \"#ed7953\"], [0.7777777777777778, \"#fb9f3a\"], [0.8888888888888888, \"#fdca26\"], [1.0, \"#f0f921\"]], \"type\": \"heatmapgl\"}], \"histogram\": [{\"marker\": {\"colorbar\": {\"outlinewidth\": 0, \"ticks\": \"\"}}, \"type\": \"histogram\"}], \"histogram2d\": [{\"colorbar\": {\"outlinewidth\": 0, \"ticks\": \"\"}, \"colorscale\": [[0.0, \"#0d0887\"], [0.1111111111111111, \"#46039f\"], [0.2222222222222222, \"#7201a8\"], [0.3333333333333333, \"#9c179e\"], [0.4444444444444444, \"#bd3786\"], [0.5555555555555556, \"#d8576b\"], [0.6666666666666666, \"#ed7953\"], [0.7777777777777778, \"#fb9f3a\"], [0.8888888888888888, \"#fdca26\"], [1.0, \"#f0f921\"]], \"type\": \"histogram2d\"}], \"histogram2dcontour\": [{\"colorbar\": {\"outlinewidth\": 0, \"ticks\": \"\"}, \"colorscale\": [[0.0, \"#0d0887\"], [0.1111111111111111, \"#46039f\"], [0.2222222222222222, \"#7201a8\"], [0.3333333333333333, \"#9c179e\"], [0.4444444444444444, \"#bd3786\"], [0.5555555555555556, \"#d8576b\"], [0.6666666666666666, \"#ed7953\"], [0.7777777777777778, \"#fb9f3a\"], [0.8888888888888888, \"#fdca26\"], [1.0, \"#f0f921\"]], \"type\": \"histogram2dcontour\"}], \"mesh3d\": [{\"colorbar\": {\"outlinewidth\": 0, \"ticks\": \"\"}, \"type\": \"mesh3d\"}], \"parcoords\": [{\"line\": {\"colorbar\": {\"outlinewidth\": 0, \"ticks\": \"\"}}, \"type\": \"parcoords\"}], \"pie\": [{\"automargin\": true, \"type\": \"pie\"}], \"scatter\": [{\"marker\": {\"colorbar\": {\"outlinewidth\": 0, \"ticks\": \"\"}}, \"type\": \"scatter\"}], \"scatter3d\": [{\"line\": {\"colorbar\": {\"outlinewidth\": 0, \"ticks\": \"\"}}, \"marker\": {\"colorbar\": {\"outlinewidth\": 0, \"ticks\": \"\"}}, \"type\": \"scatter3d\"}], \"scattercarpet\": [{\"marker\": {\"colorbar\": {\"outlinewidth\": 0, \"ticks\": \"\"}}, \"type\": \"scattercarpet\"}], \"scattergeo\": [{\"marker\": {\"colorbar\": {\"outlinewidth\": 0, \"ticks\": \"\"}}, \"type\": \"scattergeo\"}], \"scattergl\": [{\"marker\": {\"colorbar\": {\"outlinewidth\": 0, \"ticks\": \"\"}}, \"type\": \"scattergl\"}], \"scattermapbox\": [{\"marker\": {\"colorbar\": {\"outlinewidth\": 0, \"ticks\": \"\"}}, \"type\": \"scattermapbox\"}], \"scatterpolar\": [{\"marker\": {\"colorbar\": {\"outlinewidth\": 0, \"ticks\": \"\"}}, \"type\": \"scatterpolar\"}], \"scatterpolargl\": [{\"marker\": {\"colorbar\": {\"outlinewidth\": 0, \"ticks\": \"\"}}, \"type\": \"scatterpolargl\"}], \"scatterternary\": [{\"marker\": {\"colorbar\": {\"outlinewidth\": 0, \"ticks\": \"\"}}, \"type\": \"scatterternary\"}], \"surface\": [{\"colorbar\": {\"outlinewidth\": 0, \"ticks\": \"\"}, \"colorscale\": [[0.0, \"#0d0887\"], [0.1111111111111111, \"#46039f\"], [0.2222222222222222, \"#7201a8\"], [0.3333333333333333, \"#9c179e\"], [0.4444444444444444, \"#bd3786\"], [0.5555555555555556, \"#d8576b\"], [0.6666666666666666, \"#ed7953\"], [0.7777777777777778, \"#fb9f3a\"], [0.8888888888888888, \"#fdca26\"], [1.0, \"#f0f921\"]], \"type\": \"surface\"}], \"table\": [{\"cells\": {\"fill\": {\"color\": \"#EBF0F8\"}, \"line\": {\"color\": \"white\"}}, \"header\": {\"fill\": {\"color\": \"#C8D4E3\"}, \"line\": {\"color\": \"white\"}}, \"type\": \"table\"}]}, \"layout\": {\"annotationdefaults\": {\"arrowcolor\": \"#2a3f5f\", \"arrowhead\": 0, \"arrowwidth\": 1}, \"coloraxis\": {\"colorbar\": {\"outlinewidth\": 0, \"ticks\": \"\"}}, \"colorscale\": {\"diverging\": [[0, \"#8e0152\"], [0.1, \"#c51b7d\"], [0.2, \"#de77ae\"], [0.3, \"#f1b6da\"], [0.4, \"#fde0ef\"], [0.5, \"#f7f7f7\"], [0.6, \"#e6f5d0\"], [0.7, \"#b8e186\"], [0.8, \"#7fbc41\"], [0.9, \"#4d9221\"], [1, \"#276419\"]], \"sequential\": [[0.0, \"#0d0887\"], [0.1111111111111111, \"#46039f\"], [0.2222222222222222, \"#7201a8\"], [0.3333333333333333, \"#9c179e\"], [0.4444444444444444, \"#bd3786\"], [0.5555555555555556, \"#d8576b\"], [0.6666666666666666, \"#ed7953\"], [0.7777777777777778, \"#fb9f3a\"], [0.8888888888888888, \"#fdca26\"], [1.0, \"#f0f921\"]], \"sequentialminus\": [[0.0, \"#0d0887\"], [0.1111111111111111, \"#46039f\"], [0.2222222222222222, \"#7201a8\"], [0.3333333333333333, \"#9c179e\"], [0.4444444444444444, \"#bd3786\"], [0.5555555555555556, \"#d8576b\"], [0.6666666666666666, \"#ed7953\"], [0.7777777777777778, \"#fb9f3a\"], [0.8888888888888888, \"#fdca26\"], [1.0, \"#f0f921\"]]}, \"colorway\": [\"#636efa\", \"#EF553B\", \"#00cc96\", \"#ab63fa\", \"#FFA15A\", \"#19d3f3\", \"#FF6692\", \"#B6E880\", \"#FF97FF\", \"#FECB52\"], \"font\": {\"color\": \"#2a3f5f\"}, \"geo\": {\"bgcolor\": \"white\", \"lakecolor\": \"white\", \"landcolor\": \"#E5ECF6\", \"showlakes\": true, \"showland\": true, \"subunitcolor\": \"white\"}, \"hoverlabel\": {\"align\": \"left\"}, \"hovermode\": \"closest\", \"mapbox\": {\"style\": \"light\"}, \"paper_bgcolor\": \"white\", \"plot_bgcolor\": \"#E5ECF6\", \"polar\": {\"angularaxis\": {\"gridcolor\": \"white\", \"linecolor\": \"white\", \"ticks\": \"\"}, \"bgcolor\": \"#E5ECF6\", \"radialaxis\": {\"gridcolor\": \"white\", \"linecolor\": \"white\", \"ticks\": \"\"}}, \"scene\": {\"xaxis\": {\"backgroundcolor\": \"#E5ECF6\", \"gridcolor\": \"white\", \"gridwidth\": 2, \"linecolor\": \"white\", \"showbackground\": true, \"ticks\": \"\", \"zerolinecolor\": \"white\"}, \"yaxis\": {\"backgroundcolor\": \"#E5ECF6\", \"gridcolor\": \"white\", \"gridwidth\": 2, \"linecolor\": \"white\", \"showbackground\": true, \"ticks\": \"\", \"zerolinecolor\": \"white\"}, \"zaxis\": {\"backgroundcolor\": \"#E5ECF6\", \"gridcolor\": \"white\", \"gridwidth\": 2, \"linecolor\": \"white\", \"showbackground\": true, \"ticks\": \"\", \"zerolinecolor\": \"white\"}}, \"shapedefaults\": {\"line\": {\"color\": \"#2a3f5f\"}}, \"ternary\": {\"aaxis\": {\"gridcolor\": \"white\", \"linecolor\": \"white\", \"ticks\": \"\"}, \"baxis\": {\"gridcolor\": \"white\", \"linecolor\": \"white\", \"ticks\": \"\"}, \"bgcolor\": \"#E5ECF6\", \"caxis\": {\"gridcolor\": \"white\", \"linecolor\": \"white\", \"ticks\": \"\"}}, \"title\": {\"x\": 0.05}, \"xaxis\": {\"automargin\": true, \"gridcolor\": \"white\", \"linecolor\": \"white\", \"ticks\": \"\", \"title\": {\"standoff\": 15}, \"zerolinecolor\": \"white\", \"zerolinewidth\": 2}, \"yaxis\": {\"automargin\": true, \"gridcolor\": \"white\", \"linecolor\": \"white\", \"ticks\": \"\", \"title\": {\"standoff\": 15}, \"zerolinecolor\": \"white\", \"zerolinewidth\": 2}}}},\n",
       "                        {\"responsive\": true}\n",
       "                    ).then(function(){\n",
       "                            \n",
       "var gd = document.getElementById('e7e7f5c6-52b1-466a-8378-17dbb6dd5622');\n",
       "var x = new MutationObserver(function (mutations, observer) {{\n",
       "        var display = window.getComputedStyle(gd).display;\n",
       "        if (!display || display === 'none') {{\n",
       "            console.log([gd, 'removed!']);\n",
       "            Plotly.purge(gd);\n",
       "            observer.disconnect();\n",
       "        }}\n",
       "}});\n",
       "\n",
       "// Listen for the removal of the full notebook cells\n",
       "var notebookContainer = gd.closest('#notebook-container');\n",
       "if (notebookContainer) {{\n",
       "    x.observe(notebookContainer, {childList: true});\n",
       "}}\n",
       "\n",
       "// Listen for the clearing of the current output cell\n",
       "var outputEl = gd.closest('.output');\n",
       "if (outputEl) {{\n",
       "    x.observe(outputEl, {childList: true});\n",
       "}}\n",
       "\n",
       "                        })\n",
       "                };\n",
       "                });\n",
       "            </script>\n",
       "        </div>"
      ]
     },
     "metadata": {},
     "output_type": "display_data"
    }
   ],
   "source": [
    "pca = PCA()\n",
    "components = pca.fit_transform(df_normalized)\n",
    "labels = {\n",
    "    str(i): f\"PC {i} ({var:.1f}%)\"\n",
    "    for i, var in enumerate(pca.explained_variance_ratio_ * 100)\n",
    "}\n",
    "\n",
    "fig = px.scatter_matrix(\n",
    "    components,\n",
    "    labels=labels,\n",
    "    dimensions=range(2)\n",
    ")\n",
    "fig.update_traces(diagonal_visible=False)"
   ]
  },
  {
   "cell_type": "code",
   "execution_count": 64,
   "id": "27dbd07e",
   "metadata": {},
   "outputs": [
    {
     "data": {
      "text/plain": [
       "<AxesSubplot:>"
      ]
     },
     "execution_count": 64,
     "metadata": {},
     "output_type": "execute_result"
    },
    {
     "data": {
      "image/png": "[encoded data removed]",
      "text/plain": [
       "<Figure size 720x720 with 2 Axes>"
      ]
     },
     "metadata": {
      "needs_background": "light"
     },
     "output_type": "display_data"
    }
   ],
   "source": [
    "fig, ax = plt.subplots(figsize=(10,10)) \n",
    "sns.heatmap(loadings, cmap ='coolwarm', vmin=-1, vmax=1, linewidths = 0.50, annot = True, ax=ax)"
   ]
  },
  {
   "cell_type": "code",
   "execution_count": 74,
   "id": "4cb76860",
   "metadata": {},
   "outputs": [
    {
     "data": {
      "text/plain": [
       "<AxesSubplot:xlabel='Phf', ylabel='Error'>"
      ]
     },
     "execution_count": 74,
     "metadata": {},
     "output_type": "execute_result"
    },
    {
     "data": {
      "image/png": "[encoded data removed]",
      "text/plain": [
       "<Figure size 432x288 with 1 Axes>"
      ]
     },
     "metadata": {
      "needs_background": "light"
     },
     "output_type": "display_data"
    }
   ],
   "source": [
    "cutdat_log.plot.scatter(y='Error', x='hf')"
   ]
  },
  {
   "cell_type": "code",
   "execution_count": 65,
   "id": "298279b4",
   "metadata": {},
   "outputs": [],
   "source": [
    "cutdat_log['Error'] = 10**cutdat_log['Error'] "
   ]
  },
  {
   "cell_type": "code",
   "execution_count": 75,
   "id": "53f76a77",
   "metadata": {},
   "outputs": [],
   "source": [
    "p = np.array([1,2,3])"
   ]
  },
  {
   "cell_type": "code",
   "execution_count": 76,
   "id": "707812ef",
   "metadata": {},
   "outputs": [],
   "source": [
    "a, b, c = p"
   ]
  },
  {
   "cell_type": "code",
   "execution_count": 78,
   "id": "9d3f524a",
   "metadata": {},
   "outputs": [
    {
     "data": {
      "text/plain": [
       "3"
      ]
     },
     "execution_count": 78,
     "metadata": {},
     "output_type": "execute_result"
    }
   ],
   "source": [
    "c"
   ]
  },
  {
   "cell_type": "code",
   "execution_count": null,
   "id": "1b86a64a",
   "metadata": {},
   "outputs": [],
   "source": []
  }
 ],
 "metadata": {
  "kernelspec": {
   "display_name": "Python 3",
   "language": "python",
   "name": "python3"
  },
  "language_info": {
   "codemirror_mode": {
    "name": "ipython",
    "version": 3
   },
   "file_extension": ".py",
   "mimetype": "text/x-python",
   "name": "python",
   "nbconvert_exporter": "python",
   "pygments_lexer": "ipython3",
   "version": "3.7.6"
  }
 },
 "nbformat": 4,
 "nbformat_minor": 5
}
